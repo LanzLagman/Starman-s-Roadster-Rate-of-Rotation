{
 "cells": [
  {
   "cell_type": "markdown",
   "metadata": {},
   "source": [
    "# How fast was Starman's Tesla Roadster spin?"
   ]
  },
  {
   "cell_type": "code",
   "execution_count": 1,
   "metadata": {},
   "outputs": [],
   "source": [
    "%%html\n",
    "<center><blockquote class=\"twitter-video\" data-lang=\"en\"><p lang=\"en\" dir=\"ltr\">You can see the car blinking in our time-lapse from the 4.1-m SOAR telescope in Chile, taken in twilight on 2018-02-10. The car is already more than 1 million km away, tens of thousands of times fainter than can be seen with the unaided eye. <a href=\"https://t.co/WPHTPjps57\">pic.twitter.com/WPHTPjps57</a></p>&mdash; JJ Hermes (@jotajotahermes) <a href=\"https://twitter.com/jotajotahermes/status/962545718622937088?ref_src=twsrc%5Etfw\">February 11, 2018</a></blockquote></center>\n",
    "<center><script async src=\"https://platform.twitter.com/widgets.js\" charset=\"utf-8\"></script></center>"
   ]
  },
  {
   "cell_type": "markdown",
   "metadata": {},
   "source": [
    "This is just a simple exercise done out of curiosity.\n",
    "\n",
    "Data source:\n",
    "http://k2wd.org/share/roadster.dat\n",
    "\n",
    "Results compared to:\n",
    "https://twitter.com/jotajotahermes/status/962545252446932993\n",
    "\n",
    "Credits:\n",
    "Erik Dennihy, JJ Hermes"
   ]
  },
  {
   "cell_type": "markdown",
   "metadata": {},
   "source": [
    "## Import necessary libraries"
   ]
  },
  {
   "cell_type": "code",
   "execution_count": 2,
   "metadata": {},
   "outputs": [],
   "source": [
    "import numpy as np\n",
    "import pandas as pd\n",
    "import scipy\n",
    "import peakutils\n",
    "from datetime import datetime, timedelta\n",
    "import matplotlib.pyplot as plt\n",
    "import seaborn as sns\n",
    "sns.set_style('white')"
   ]
  },
  {
   "cell_type": "markdown",
   "metadata": {},
   "source": [
    "Seaborn was just included for the graph aesthetic."
   ]
  },
  {
   "cell_type": "markdown",
   "metadata": {},
   "source": [
    "## Importing and cleaning data"
   ]
  },
  {
   "cell_type": "code",
   "execution_count": 3,
   "metadata": {},
   "outputs": [
    {
     "data": {
      "text/html": [
       "<div>\n",
       "<style scoped>\n",
       "    .dataframe tbody tr th:only-of-type {\n",
       "        vertical-align: middle;\n",
       "    }\n",
       "\n",
       "    .dataframe tbody tr th {\n",
       "        vertical-align: top;\n",
       "    }\n",
       "\n",
       "    .dataframe thead th {\n",
       "        text-align: right;\n",
       "    }\n",
       "</style>\n",
       "<table border=\"1\" class=\"dataframe\">\n",
       "  <thead>\n",
       "    <tr style=\"text-align: right;\">\n",
       "      <th></th>\n",
       "      <th># Tesla Roadster (Starman</th>\n",
       "      <th>2018-017A)</th>\n",
       "    </tr>\n",
       "  </thead>\n",
       "  <tbody>\n",
       "    <tr>\n",
       "      <th>0</th>\n",
       "      <td># Observed with Goodman spectrograph + 4.1-m S...</td>\n",
       "      <td>CTIO Chile</td>\n",
       "    </tr>\n",
       "    <tr>\n",
       "      <th>1</th>\n",
       "      <td># First column: Time (in s) relative to 2018-0...</td>\n",
       "      <td>NaN</td>\n",
       "    </tr>\n",
       "    <tr>\n",
       "      <th>2</th>\n",
       "      <td># Second column: Relative flux</td>\n",
       "      <td>NaN</td>\n",
       "    </tr>\n",
       "    <tr>\n",
       "      <th>3</th>\n",
       "      <td># Observed through SDSS-r' filter</td>\n",
       "      <td>NaN</td>\n",
       "    </tr>\n",
       "    <tr>\n",
       "      <th>4</th>\n",
       "      <td># Credit: Erik Dennihy</td>\n",
       "      <td>JJ Hermes (jjhermes@unc.edu)</td>\n",
       "    </tr>\n",
       "    <tr>\n",
       "      <th>5</th>\n",
       "      <td>0.000 0.05477</td>\n",
       "      <td>NaN</td>\n",
       "    </tr>\n",
       "    <tr>\n",
       "      <th>6</th>\n",
       "      <td>15.881 0.07878</td>\n",
       "      <td>NaN</td>\n",
       "    </tr>\n",
       "  </tbody>\n",
       "</table>\n",
       "</div>"
      ],
      "text/plain": [
       "                           # Tesla Roadster (Starman  \\\n",
       "0  # Observed with Goodman spectrograph + 4.1-m S...   \n",
       "1  # First column: Time (in s) relative to 2018-0...   \n",
       "2                     # Second column: Relative flux   \n",
       "3                  # Observed through SDSS-r' filter   \n",
       "4                             # Credit: Erik Dennihy   \n",
       "5                                      0.000 0.05477   \n",
       "6                                     15.881 0.07878   \n",
       "\n",
       "                      2018-017A)  \n",
       "0                     CTIO Chile  \n",
       "1                            NaN  \n",
       "2                            NaN  \n",
       "3                            NaN  \n",
       "4   JJ Hermes (jjhermes@unc.edu)  \n",
       "5                            NaN  \n",
       "6                            NaN  "
      ]
     },
     "execution_count": 3,
     "metadata": {},
     "output_type": "execute_result"
    }
   ],
   "source": [
    "df = pd.read_csv('roadster.dat')\n",
    "df.head(7)"
   ]
  },
  {
   "cell_type": "markdown",
   "metadata": {},
   "source": [
    "This tidbit will be needed later."
   ]
  },
  {
   "cell_type": "code",
   "execution_count": 4,
   "metadata": {},
   "outputs": [
    {
     "name": "stdout",
     "output_type": "stream",
     "text": [
      "# First column: Time (in s) relative to 2018-02-10 UT 08:28:25.30\n"
     ]
    }
   ],
   "source": [
    "print(df.loc[1][0])"
   ]
  },
  {
   "cell_type": "code",
   "execution_count": 5,
   "metadata": {},
   "outputs": [
    {
     "data": {
      "text/html": [
       "<div>\n",
       "<style scoped>\n",
       "    .dataframe tbody tr th:only-of-type {\n",
       "        vertical-align: middle;\n",
       "    }\n",
       "\n",
       "    .dataframe tbody tr th {\n",
       "        vertical-align: top;\n",
       "    }\n",
       "\n",
       "    .dataframe thead th {\n",
       "        text-align: right;\n",
       "    }\n",
       "</style>\n",
       "<table border=\"1\" class=\"dataframe\">\n",
       "  <thead>\n",
       "    <tr style=\"text-align: right;\">\n",
       "      <th></th>\n",
       "      <th></th>\n",
       "      <th></th>\n",
       "      <th></th>\n",
       "      <th></th>\n",
       "      <th></th>\n",
       "      <th>#</th>\n",
       "      <th>Tesla</th>\n",
       "      <th>Roadster</th>\n",
       "      <th>(Starman,</th>\n",
       "      <th>2018-017A)</th>\n",
       "    </tr>\n",
       "  </thead>\n",
       "  <tbody>\n",
       "    <tr>\n",
       "      <th rowspan=\"5\" valign=\"top\">#</th>\n",
       "      <th>Observed</th>\n",
       "      <th>with</th>\n",
       "      <th>Goodman</th>\n",
       "      <th>spectrograph</th>\n",
       "      <th>+</th>\n",
       "      <td>4.1-m</td>\n",
       "      <td>SOAR</td>\n",
       "      <td>telescope,</td>\n",
       "      <td>CTIO</td>\n",
       "      <td>Chile</td>\n",
       "    </tr>\n",
       "    <tr>\n",
       "      <th>First</th>\n",
       "      <th>column:</th>\n",
       "      <th>Time</th>\n",
       "      <th>(in</th>\n",
       "      <th>s)</th>\n",
       "      <td>relative</td>\n",
       "      <td>to</td>\n",
       "      <td>2018-02-10</td>\n",
       "      <td>UT</td>\n",
       "      <td>08:28:25.30</td>\n",
       "    </tr>\n",
       "    <tr>\n",
       "      <th>Second</th>\n",
       "      <th>column:</th>\n",
       "      <th>Relative</th>\n",
       "      <th>flux</th>\n",
       "      <th>NaN</th>\n",
       "      <td>NaN</td>\n",
       "      <td>NaN</td>\n",
       "      <td>NaN</td>\n",
       "      <td>NaN</td>\n",
       "      <td>NaN</td>\n",
       "    </tr>\n",
       "    <tr>\n",
       "      <th>Observed</th>\n",
       "      <th>through</th>\n",
       "      <th>SDSS-r'</th>\n",
       "      <th>filter</th>\n",
       "      <th>NaN</th>\n",
       "      <td>NaN</td>\n",
       "      <td>NaN</td>\n",
       "      <td>NaN</td>\n",
       "      <td>NaN</td>\n",
       "      <td>NaN</td>\n",
       "    </tr>\n",
       "    <tr>\n",
       "      <th>Credit:</th>\n",
       "      <th>Erik</th>\n",
       "      <th>Dennihy,</th>\n",
       "      <th>JJ</th>\n",
       "      <th>Hermes</th>\n",
       "      <td>(jjhermes@unc.edu)</td>\n",
       "      <td>NaN</td>\n",
       "      <td>NaN</td>\n",
       "      <td>NaN</td>\n",
       "      <td>NaN</td>\n",
       "    </tr>\n",
       "    <tr>\n",
       "      <th>0.000</th>\n",
       "      <th>0.05477</th>\n",
       "      <th>NaN</th>\n",
       "      <th>NaN</th>\n",
       "      <th>NaN</th>\n",
       "      <th>NaN</th>\n",
       "      <td>NaN</td>\n",
       "      <td>NaN</td>\n",
       "      <td>NaN</td>\n",
       "      <td>NaN</td>\n",
       "      <td>NaN</td>\n",
       "    </tr>\n",
       "    <tr>\n",
       "      <th>15.881</th>\n",
       "      <th>0.07878</th>\n",
       "      <th>NaN</th>\n",
       "      <th>NaN</th>\n",
       "      <th>NaN</th>\n",
       "      <th>NaN</th>\n",
       "      <td>NaN</td>\n",
       "      <td>NaN</td>\n",
       "      <td>NaN</td>\n",
       "      <td>NaN</td>\n",
       "      <td>NaN</td>\n",
       "    </tr>\n",
       "  </tbody>\n",
       "</table>\n",
       "</div>"
      ],
      "text/plain": [
       "                                                                       #  \\\n",
       "#      Observed with    Goodman  spectrograph +                    4.1-m   \n",
       "       First    column: Time     (in          s)                relative   \n",
       "       Second   column: Relative flux         NaN                    NaN   \n",
       "       Observed through SDSS-r'  filter       NaN                    NaN   \n",
       "       Credit:  Erik    Dennihy, JJ           Hermes  (jjhermes@unc.edu)   \n",
       "0.000  0.05477  NaN     NaN      NaN          NaN                    NaN   \n",
       "15.881 0.07878  NaN     NaN      NaN          NaN                    NaN   \n",
       "\n",
       "                                                     Tesla    Roadster  \\\n",
       "#      Observed with    Goodman  spectrograph +       SOAR  telescope,   \n",
       "       First    column: Time     (in          s)        to  2018-02-10   \n",
       "       Second   column: Relative flux         NaN      NaN         NaN   \n",
       "       Observed through SDSS-r'  filter       NaN      NaN         NaN   \n",
       "       Credit:  Erik    Dennihy, JJ           Hermes   NaN         NaN   \n",
       "0.000  0.05477  NaN     NaN      NaN          NaN      NaN         NaN   \n",
       "15.881 0.07878  NaN     NaN      NaN          NaN      NaN         NaN   \n",
       "\n",
       "                                                     (Starman,   2018-017A)  \n",
       "#      Observed with    Goodman  spectrograph +           CTIO        Chile  \n",
       "       First    column: Time     (in          s)            UT  08:28:25.30  \n",
       "       Second   column: Relative flux         NaN          NaN          NaN  \n",
       "       Observed through SDSS-r'  filter       NaN          NaN          NaN  \n",
       "       Credit:  Erik    Dennihy, JJ           Hermes       NaN          NaN  \n",
       "0.000  0.05477  NaN     NaN      NaN          NaN          NaN          NaN  \n",
       "15.881 0.07878  NaN     NaN      NaN          NaN          NaN          NaN  "
      ]
     },
     "execution_count": 5,
     "metadata": {},
     "output_type": "execute_result"
    }
   ],
   "source": [
    "df = pd.read_csv('roadster.dat', sep=' ')\n",
    "df.head(7)"
   ]
  },
  {
   "cell_type": "code",
   "execution_count": 6,
   "metadata": {},
   "outputs": [
    {
     "data": {
      "text/html": [
       "<div>\n",
       "<style scoped>\n",
       "    .dataframe tbody tr th:only-of-type {\n",
       "        vertical-align: middle;\n",
       "    }\n",
       "\n",
       "    .dataframe tbody tr th {\n",
       "        vertical-align: top;\n",
       "    }\n",
       "\n",
       "    .dataframe thead th {\n",
       "        text-align: right;\n",
       "    }\n",
       "</style>\n",
       "<table border=\"1\" class=\"dataframe\">\n",
       "  <thead>\n",
       "    <tr style=\"text-align: right;\">\n",
       "      <th></th>\n",
       "      <th>#</th>\n",
       "      <th>Credit:</th>\n",
       "      <th>Erik</th>\n",
       "      <th>Dennihy,</th>\n",
       "      <th>JJ</th>\n",
       "      <th>Hermes</th>\n",
       "      <th>(jjhermes@unc.edu)</th>\n",
       "    </tr>\n",
       "  </thead>\n",
       "  <tbody>\n",
       "    <tr>\n",
       "      <th>0</th>\n",
       "      <td>0.000</td>\n",
       "      <td>0.05477</td>\n",
       "      <td>NaN</td>\n",
       "      <td>NaN</td>\n",
       "      <td>NaN</td>\n",
       "      <td>NaN</td>\n",
       "      <td>NaN</td>\n",
       "    </tr>\n",
       "    <tr>\n",
       "      <th>1</th>\n",
       "      <td>15.881</td>\n",
       "      <td>0.07878</td>\n",
       "      <td>NaN</td>\n",
       "      <td>NaN</td>\n",
       "      <td>NaN</td>\n",
       "      <td>NaN</td>\n",
       "      <td>NaN</td>\n",
       "    </tr>\n",
       "    <tr>\n",
       "      <th>2</th>\n",
       "      <td>31.706</td>\n",
       "      <td>0.18612</td>\n",
       "      <td>NaN</td>\n",
       "      <td>NaN</td>\n",
       "      <td>NaN</td>\n",
       "      <td>NaN</td>\n",
       "      <td>NaN</td>\n",
       "    </tr>\n",
       "    <tr>\n",
       "      <th>3</th>\n",
       "      <td>47.564</td>\n",
       "      <td>0.10497</td>\n",
       "      <td>NaN</td>\n",
       "      <td>NaN</td>\n",
       "      <td>NaN</td>\n",
       "      <td>NaN</td>\n",
       "      <td>NaN</td>\n",
       "    </tr>\n",
       "    <tr>\n",
       "      <th>4</th>\n",
       "      <td>63.405</td>\n",
       "      <td>0.07927</td>\n",
       "      <td>NaN</td>\n",
       "      <td>NaN</td>\n",
       "      <td>NaN</td>\n",
       "      <td>NaN</td>\n",
       "      <td>NaN</td>\n",
       "    </tr>\n",
       "    <tr>\n",
       "      <th>5</th>\n",
       "      <td>79.261</td>\n",
       "      <td>0.05045</td>\n",
       "      <td>NaN</td>\n",
       "      <td>NaN</td>\n",
       "      <td>NaN</td>\n",
       "      <td>NaN</td>\n",
       "      <td>NaN</td>\n",
       "    </tr>\n",
       "    <tr>\n",
       "      <th>6</th>\n",
       "      <td>95.082</td>\n",
       "      <td>0.01662</td>\n",
       "      <td>NaN</td>\n",
       "      <td>NaN</td>\n",
       "      <td>NaN</td>\n",
       "      <td>NaN</td>\n",
       "      <td>NaN</td>\n",
       "    </tr>\n",
       "  </tbody>\n",
       "</table>\n",
       "</div>"
      ],
      "text/plain": [
       "        #  Credit:  Erik  Dennihy,  JJ  Hermes  (jjhermes@unc.edu)\n",
       "0   0.000  0.05477   NaN       NaN NaN     NaN                 NaN\n",
       "1  15.881  0.07878   NaN       NaN NaN     NaN                 NaN\n",
       "2  31.706  0.18612   NaN       NaN NaN     NaN                 NaN\n",
       "3  47.564  0.10497   NaN       NaN NaN     NaN                 NaN\n",
       "4  63.405  0.07927   NaN       NaN NaN     NaN                 NaN\n",
       "5  79.261  0.05045   NaN       NaN NaN     NaN                 NaN\n",
       "6  95.082  0.01662   NaN       NaN NaN     NaN                 NaN"
      ]
     },
     "execution_count": 6,
     "metadata": {},
     "output_type": "execute_result"
    }
   ],
   "source": [
    "df = pd.read_csv('roadster.dat', sep=' ', skiprows=5)\n",
    "df.head(7)"
   ]
  },
  {
   "cell_type": "code",
   "execution_count": 7,
   "metadata": {},
   "outputs": [
    {
     "data": {
      "text/html": [
       "<div>\n",
       "<style scoped>\n",
       "    .dataframe tbody tr th:only-of-type {\n",
       "        vertical-align: middle;\n",
       "    }\n",
       "\n",
       "    .dataframe tbody tr th {\n",
       "        vertical-align: top;\n",
       "    }\n",
       "\n",
       "    .dataframe thead th {\n",
       "        text-align: right;\n",
       "    }\n",
       "</style>\n",
       "<table border=\"1\" class=\"dataframe\">\n",
       "  <thead>\n",
       "    <tr style=\"text-align: right;\">\n",
       "      <th></th>\n",
       "      <th>#</th>\n",
       "      <th>Credit:</th>\n",
       "      <th>Erik</th>\n",
       "      <th>Dennihy,</th>\n",
       "      <th>JJ</th>\n",
       "      <th>Hermes</th>\n",
       "      <th>(jjhermes@unc.edu)</th>\n",
       "    </tr>\n",
       "  </thead>\n",
       "  <tbody>\n",
       "    <tr>\n",
       "      <th>0</th>\n",
       "      <td>0.000</td>\n",
       "      <td>0.05477</td>\n",
       "      <td>NaN</td>\n",
       "      <td>NaN</td>\n",
       "      <td>NaN</td>\n",
       "      <td>NaN</td>\n",
       "      <td>NaN</td>\n",
       "    </tr>\n",
       "    <tr>\n",
       "      <th>1</th>\n",
       "      <td>15.881</td>\n",
       "      <td>0.07878</td>\n",
       "      <td>NaN</td>\n",
       "      <td>NaN</td>\n",
       "      <td>NaN</td>\n",
       "      <td>NaN</td>\n",
       "      <td>NaN</td>\n",
       "    </tr>\n",
       "    <tr>\n",
       "      <th>2</th>\n",
       "      <td>31.706</td>\n",
       "      <td>0.18612</td>\n",
       "      <td>NaN</td>\n",
       "      <td>NaN</td>\n",
       "      <td>NaN</td>\n",
       "      <td>NaN</td>\n",
       "      <td>NaN</td>\n",
       "    </tr>\n",
       "    <tr>\n",
       "      <th>3</th>\n",
       "      <td>47.564</td>\n",
       "      <td>0.10497</td>\n",
       "      <td>NaN</td>\n",
       "      <td>NaN</td>\n",
       "      <td>NaN</td>\n",
       "      <td>NaN</td>\n",
       "      <td>NaN</td>\n",
       "    </tr>\n",
       "    <tr>\n",
       "      <th>4</th>\n",
       "      <td>63.405</td>\n",
       "      <td>0.07927</td>\n",
       "      <td>NaN</td>\n",
       "      <td>NaN</td>\n",
       "      <td>NaN</td>\n",
       "      <td>NaN</td>\n",
       "      <td>NaN</td>\n",
       "    </tr>\n",
       "    <tr>\n",
       "      <th>5</th>\n",
       "      <td>79.261</td>\n",
       "      <td>0.05045</td>\n",
       "      <td>NaN</td>\n",
       "      <td>NaN</td>\n",
       "      <td>NaN</td>\n",
       "      <td>NaN</td>\n",
       "      <td>NaN</td>\n",
       "    </tr>\n",
       "    <tr>\n",
       "      <th>6</th>\n",
       "      <td>95.082</td>\n",
       "      <td>0.01662</td>\n",
       "      <td>NaN</td>\n",
       "      <td>NaN</td>\n",
       "      <td>NaN</td>\n",
       "      <td>NaN</td>\n",
       "      <td>NaN</td>\n",
       "    </tr>\n",
       "  </tbody>\n",
       "</table>\n",
       "</div>"
      ],
      "text/plain": [
       "        #  Credit:  Erik  Dennihy,  JJ  Hermes  (jjhermes@unc.edu)\n",
       "0   0.000  0.05477   NaN       NaN NaN     NaN                 NaN\n",
       "1  15.881  0.07878   NaN       NaN NaN     NaN                 NaN\n",
       "2  31.706  0.18612   NaN       NaN NaN     NaN                 NaN\n",
       "3  47.564  0.10497   NaN       NaN NaN     NaN                 NaN\n",
       "4  63.405  0.07927   NaN       NaN NaN     NaN                 NaN\n",
       "5  79.261  0.05045   NaN       NaN NaN     NaN                 NaN\n",
       "6  95.082  0.01662   NaN       NaN NaN     NaN                 NaN"
      ]
     },
     "execution_count": 7,
     "metadata": {},
     "output_type": "execute_result"
    }
   ],
   "source": [
    "df = pd.read_csv('roadster.dat', sep=' ', skiprows=5, na_filter=True)\n",
    "df.head(7)"
   ]
  },
  {
   "cell_type": "code",
   "execution_count": 8,
   "metadata": {},
   "outputs": [
    {
     "name": "stdout",
     "output_type": "stream",
     "text": [
      "<class 'pandas.core.frame.DataFrame'>\n",
      "RangeIndex: 200 entries, 0 to 199\n",
      "Data columns (total 2 columns):\n",
      "Time(s)          200 non-null float64\n",
      "Relative Flux    200 non-null float64\n",
      "dtypes: float64(2)\n",
      "memory usage: 3.2 KB\n"
     ]
    }
   ],
   "source": [
    "df = df.dropna(axis=1, how='all')\n",
    "df.columns = ['Time(s)', 'Relative Flux']\n",
    "df.info()"
   ]
  },
  {
   "cell_type": "code",
   "execution_count": 9,
   "metadata": {},
   "outputs": [
    {
     "data": {
      "text/html": [
       "<div>\n",
       "<style scoped>\n",
       "    .dataframe tbody tr th:only-of-type {\n",
       "        vertical-align: middle;\n",
       "    }\n",
       "\n",
       "    .dataframe tbody tr th {\n",
       "        vertical-align: top;\n",
       "    }\n",
       "\n",
       "    .dataframe thead th {\n",
       "        text-align: right;\n",
       "    }\n",
       "</style>\n",
       "<table border=\"1\" class=\"dataframe\">\n",
       "  <thead>\n",
       "    <tr style=\"text-align: right;\">\n",
       "      <th></th>\n",
       "      <th>Time(s)</th>\n",
       "      <th>Relative Flux</th>\n",
       "    </tr>\n",
       "  </thead>\n",
       "  <tbody>\n",
       "    <tr>\n",
       "      <th>0</th>\n",
       "      <td>0.000</td>\n",
       "      <td>0.05477</td>\n",
       "    </tr>\n",
       "    <tr>\n",
       "      <th>1</th>\n",
       "      <td>15.881</td>\n",
       "      <td>0.07878</td>\n",
       "    </tr>\n",
       "    <tr>\n",
       "      <th>2</th>\n",
       "      <td>31.706</td>\n",
       "      <td>0.18612</td>\n",
       "    </tr>\n",
       "    <tr>\n",
       "      <th>3</th>\n",
       "      <td>47.564</td>\n",
       "      <td>0.10497</td>\n",
       "    </tr>\n",
       "    <tr>\n",
       "      <th>4</th>\n",
       "      <td>63.405</td>\n",
       "      <td>0.07927</td>\n",
       "    </tr>\n",
       "  </tbody>\n",
       "</table>\n",
       "</div>"
      ],
      "text/plain": [
       "   Time(s)  Relative Flux\n",
       "0    0.000        0.05477\n",
       "1   15.881        0.07878\n",
       "2   31.706        0.18612\n",
       "3   47.564        0.10497\n",
       "4   63.405        0.07927"
      ]
     },
     "execution_count": 9,
     "metadata": {},
     "output_type": "execute_result"
    }
   ],
   "source": [
    "df.head()"
   ]
  },
  {
   "cell_type": "code",
   "execution_count": 10,
   "metadata": {},
   "outputs": [
    {
     "data": {
      "text/html": [
       "<div>\n",
       "<style scoped>\n",
       "    .dataframe tbody tr th:only-of-type {\n",
       "        vertical-align: middle;\n",
       "    }\n",
       "\n",
       "    .dataframe tbody tr th {\n",
       "        vertical-align: top;\n",
       "    }\n",
       "\n",
       "    .dataframe thead th {\n",
       "        text-align: right;\n",
       "    }\n",
       "</style>\n",
       "<table border=\"1\" class=\"dataframe\">\n",
       "  <thead>\n",
       "    <tr style=\"text-align: right;\">\n",
       "      <th></th>\n",
       "      <th>Time(s)</th>\n",
       "      <th>Relative Flux</th>\n",
       "    </tr>\n",
       "  </thead>\n",
       "  <tbody>\n",
       "    <tr>\n",
       "      <th>195</th>\n",
       "      <td>3093.887</td>\n",
       "      <td>-0.02789</td>\n",
       "    </tr>\n",
       "    <tr>\n",
       "      <th>196</th>\n",
       "      <td>3109.726</td>\n",
       "      <td>-0.01495</td>\n",
       "    </tr>\n",
       "    <tr>\n",
       "      <th>197</th>\n",
       "      <td>3125.607</td>\n",
       "      <td>0.00597</td>\n",
       "    </tr>\n",
       "    <tr>\n",
       "      <th>198</th>\n",
       "      <td>3141.468</td>\n",
       "      <td>0.04336</td>\n",
       "    </tr>\n",
       "    <tr>\n",
       "      <th>199</th>\n",
       "      <td>3157.360</td>\n",
       "      <td>0.08774</td>\n",
       "    </tr>\n",
       "  </tbody>\n",
       "</table>\n",
       "</div>"
      ],
      "text/plain": [
       "      Time(s)  Relative Flux\n",
       "195  3093.887       -0.02789\n",
       "196  3109.726       -0.01495\n",
       "197  3125.607        0.00597\n",
       "198  3141.468        0.04336\n",
       "199  3157.360        0.08774"
      ]
     },
     "execution_count": 10,
     "metadata": {},
     "output_type": "execute_result"
    }
   ],
   "source": [
    "df.tail()"
   ]
  },
  {
   "cell_type": "markdown",
   "metadata": {},
   "source": [
    "## Add 'Time(Actual)' column"
   ]
  },
  {
   "cell_type": "markdown",
   "metadata": {},
   "source": [
    "This will serve as our datetime index."
   ]
  },
  {
   "cell_type": "code",
   "execution_count": 11,
   "metadata": {
    "scrolled": true
   },
   "outputs": [
    {
     "name": "stderr",
     "output_type": "stream",
     "text": [
      "C:\\Users\\LLagman\\Anaconda3\\lib\\site-packages\\ipykernel_launcher.py:3: SettingWithCopyWarning: \n",
      "A value is trying to be set on a copy of a slice from a DataFrame\n",
      "\n",
      "See the caveats in the documentation: http://pandas.pydata.org/pandas-docs/stable/indexing.html#indexing-view-versus-copy\n",
      "  This is separate from the ipykernel package so we can avoid doing imports until\n"
     ]
    }
   ],
   "source": [
    "df['Time(Actual)'] = np.nan\n",
    "for i in range(len(df['Time(s)'])):\n",
    "    df['Time(Actual)'][i] = datetime(2018,2,10,8,28,25,300000) + timedelta(seconds=int(df['Time(s)'][i])) + timedelta(milliseconds=int((df['Time(s)'][i]-int(df['Time(s)'][i]))*10**3))"
   ]
  },
  {
   "cell_type": "code",
   "execution_count": 12,
   "metadata": {},
   "outputs": [
    {
     "data": {
      "text/plain": [
       "0    2018-02-10 08:28:25.300000\n",
       "1    2018-02-10 08:28:41.180000\n",
       "2    2018-02-10 08:28:57.005000\n",
       "3    2018-02-10 08:29:12.863000\n",
       "4    2018-02-10 08:29:28.705000\n",
       "Name: Time(Actual), dtype: object"
      ]
     },
     "execution_count": 12,
     "metadata": {},
     "output_type": "execute_result"
    }
   ],
   "source": [
    "df['Time(Actual)'].head()"
   ]
  },
  {
   "cell_type": "code",
   "execution_count": 13,
   "metadata": {},
   "outputs": [],
   "source": [
    "df['Time(Actual)'] = pd.to_datetime(df['Time(Actual)'], infer_datetime_format=True)\n",
    "df.set_index(df['Time(Actual)'], inplace=True)"
   ]
  },
  {
   "cell_type": "code",
   "execution_count": 14,
   "metadata": {},
   "outputs": [
    {
     "name": "stdout",
     "output_type": "stream",
     "text": [
      "<class 'pandas.core.frame.DataFrame'>\n",
      "DatetimeIndex: 200 entries, 2018-02-10 08:28:25.300000 to 2018-02-10 09:21:02.660000\n",
      "Data columns (total 3 columns):\n",
      "Time(s)          200 non-null float64\n",
      "Relative Flux    200 non-null float64\n",
      "Time(Actual)     200 non-null datetime64[ns]\n",
      "dtypes: datetime64[ns](1), float64(2)\n",
      "memory usage: 6.2 KB\n"
     ]
    }
   ],
   "source": [
    "df.info()"
   ]
  },
  {
   "cell_type": "code",
   "execution_count": 15,
   "metadata": {},
   "outputs": [
    {
     "data": {
      "text/html": [
       "<div>\n",
       "<style scoped>\n",
       "    .dataframe tbody tr th:only-of-type {\n",
       "        vertical-align: middle;\n",
       "    }\n",
       "\n",
       "    .dataframe tbody tr th {\n",
       "        vertical-align: top;\n",
       "    }\n",
       "\n",
       "    .dataframe thead th {\n",
       "        text-align: right;\n",
       "    }\n",
       "</style>\n",
       "<table border=\"1\" class=\"dataframe\">\n",
       "  <thead>\n",
       "    <tr style=\"text-align: right;\">\n",
       "      <th></th>\n",
       "      <th>Time(s)</th>\n",
       "      <th>Relative Flux</th>\n",
       "      <th>Time(Actual)</th>\n",
       "    </tr>\n",
       "    <tr>\n",
       "      <th>Time(Actual)</th>\n",
       "      <th></th>\n",
       "      <th></th>\n",
       "      <th></th>\n",
       "    </tr>\n",
       "  </thead>\n",
       "  <tbody>\n",
       "    <tr>\n",
       "      <th>2018-02-10 08:28:25.300</th>\n",
       "      <td>0.000</td>\n",
       "      <td>0.05477</td>\n",
       "      <td>2018-02-10 08:28:25.300</td>\n",
       "    </tr>\n",
       "    <tr>\n",
       "      <th>2018-02-10 08:28:41.180</th>\n",
       "      <td>15.881</td>\n",
       "      <td>0.07878</td>\n",
       "      <td>2018-02-10 08:28:41.180</td>\n",
       "    </tr>\n",
       "    <tr>\n",
       "      <th>2018-02-10 08:28:57.005</th>\n",
       "      <td>31.706</td>\n",
       "      <td>0.18612</td>\n",
       "      <td>2018-02-10 08:28:57.005</td>\n",
       "    </tr>\n",
       "    <tr>\n",
       "      <th>2018-02-10 08:29:12.863</th>\n",
       "      <td>47.564</td>\n",
       "      <td>0.10497</td>\n",
       "      <td>2018-02-10 08:29:12.863</td>\n",
       "    </tr>\n",
       "    <tr>\n",
       "      <th>2018-02-10 08:29:28.705</th>\n",
       "      <td>63.405</td>\n",
       "      <td>0.07927</td>\n",
       "      <td>2018-02-10 08:29:28.705</td>\n",
       "    </tr>\n",
       "  </tbody>\n",
       "</table>\n",
       "</div>"
      ],
      "text/plain": [
       "                         Time(s)  Relative Flux            Time(Actual)\n",
       "Time(Actual)                                                           \n",
       "2018-02-10 08:28:25.300    0.000        0.05477 2018-02-10 08:28:25.300\n",
       "2018-02-10 08:28:41.180   15.881        0.07878 2018-02-10 08:28:41.180\n",
       "2018-02-10 08:28:57.005   31.706        0.18612 2018-02-10 08:28:57.005\n",
       "2018-02-10 08:29:12.863   47.564        0.10497 2018-02-10 08:29:12.863\n",
       "2018-02-10 08:29:28.705   63.405        0.07927 2018-02-10 08:29:28.705"
      ]
     },
     "execution_count": 15,
     "metadata": {},
     "output_type": "execute_result"
    }
   ],
   "source": [
    "df.head()"
   ]
  },
  {
   "cell_type": "code",
   "execution_count": 16,
   "metadata": {},
   "outputs": [
    {
     "data": {
      "text/html": [
       "<div>\n",
       "<style scoped>\n",
       "    .dataframe tbody tr th:only-of-type {\n",
       "        vertical-align: middle;\n",
       "    }\n",
       "\n",
       "    .dataframe tbody tr th {\n",
       "        vertical-align: top;\n",
       "    }\n",
       "\n",
       "    .dataframe thead th {\n",
       "        text-align: right;\n",
       "    }\n",
       "</style>\n",
       "<table border=\"1\" class=\"dataframe\">\n",
       "  <thead>\n",
       "    <tr style=\"text-align: right;\">\n",
       "      <th></th>\n",
       "      <th>Time(s)</th>\n",
       "      <th>Relative Flux</th>\n",
       "    </tr>\n",
       "    <tr>\n",
       "      <th>Time(Actual)</th>\n",
       "      <th></th>\n",
       "      <th></th>\n",
       "    </tr>\n",
       "  </thead>\n",
       "  <tbody>\n",
       "    <tr>\n",
       "      <th>2018-02-10 08:28:25.300</th>\n",
       "      <td>0.000</td>\n",
       "      <td>0.05477</td>\n",
       "    </tr>\n",
       "    <tr>\n",
       "      <th>2018-02-10 08:28:41.180</th>\n",
       "      <td>15.881</td>\n",
       "      <td>0.07878</td>\n",
       "    </tr>\n",
       "    <tr>\n",
       "      <th>2018-02-10 08:28:57.005</th>\n",
       "      <td>31.706</td>\n",
       "      <td>0.18612</td>\n",
       "    </tr>\n",
       "    <tr>\n",
       "      <th>2018-02-10 08:29:12.863</th>\n",
       "      <td>47.564</td>\n",
       "      <td>0.10497</td>\n",
       "    </tr>\n",
       "    <tr>\n",
       "      <th>2018-02-10 08:29:28.705</th>\n",
       "      <td>63.405</td>\n",
       "      <td>0.07927</td>\n",
       "    </tr>\n",
       "  </tbody>\n",
       "</table>\n",
       "</div>"
      ],
      "text/plain": [
       "                         Time(s)  Relative Flux\n",
       "Time(Actual)                                   \n",
       "2018-02-10 08:28:25.300    0.000        0.05477\n",
       "2018-02-10 08:28:41.180   15.881        0.07878\n",
       "2018-02-10 08:28:57.005   31.706        0.18612\n",
       "2018-02-10 08:29:12.863   47.564        0.10497\n",
       "2018-02-10 08:29:28.705   63.405        0.07927"
      ]
     },
     "execution_count": 16,
     "metadata": {},
     "output_type": "execute_result"
    }
   ],
   "source": [
    "df = df.drop(columns=['Time(Actual)'], axis=1)\n",
    "df.head()"
   ]
  },
  {
   "cell_type": "markdown",
   "metadata": {},
   "source": [
    "## Create line graph of Relative Flux vs Time(Actual)"
   ]
  },
  {
   "cell_type": "code",
   "execution_count": 17,
   "metadata": {},
   "outputs": [
    {
     "data": {
      "image/png": "[encoded data removed]",
      "text/plain": [
       "<matplotlib.figure.Figure at 0xe41d422630>"
      ]
     },
     "metadata": {},
     "output_type": "display_data"
    }
   ],
   "source": [
    "plt.figure(figsize=(10,5))\n",
    "plt.title(\"Starman's Tesla Roadster Rotation Period in {0} \\n from UT{1} to UT{2}\\n\".format(str(df.index[0])[0:10],str(df.index[0])[10:-4], \n",
    "                                                                     str(df.index[-1])[10:-4]), fontsize=15)\n",
    "df['Relative Flux'].plot(linestyle=':', marker='.')\n",
    "plt.axhline(y=0, linestyle='--', color='green', alpha=0.7)\n",
    "plt.legend()\n",
    "\n",
    "plt.xlabel('Time')\n",
    "plt.ylabel('Relative Flux')\n",
    "sns.despine()"
   ]
  },
  {
   "cell_type": "markdown",
   "metadata": {},
   "source": [
    "## Find and plot the peaks with peakutils"
   ]
  },
  {
   "cell_type": "markdown",
   "metadata": {},
   "source": [
    "I used the max value and mean of values in relative flux as a basis for the treshold argument. "
   ]
  },
  {
   "cell_type": "code",
   "execution_count": 18,
   "metadata": {},
   "outputs": [
    {
     "name": "stdout",
     "output_type": "stream",
     "text": [
      "Max: 0.31564000000000003 \n",
      "Mean: 4.999999999970306e-08\n"
     ]
    }
   ],
   "source": [
    "print('Max: {0} \\nMean: {1}'.format(np.max(df['Relative Flux']),np.mean(df['Relative Flux'])))"
   ]
  },
  {
   "cell_type": "code",
   "execution_count": 19,
   "metadata": {},
   "outputs": [],
   "source": [
    "peaks = peakutils.indexes(df['Relative Flux'], \n",
    "                          thres=(np.max(df['Relative Flux'])-np.mean(df['Relative Flux'])), \n",
    "                          min_dist=len(df.index)/100)"
   ]
  },
  {
   "cell_type": "code",
   "execution_count": 20,
   "metadata": {
    "scrolled": true
   },
   "outputs": [
    {
     "data": {
      "text/plain": [
       "array([  2,  20,  39,  57,  74,  92, 110, 128, 147, 164, 182])"
      ]
     },
     "execution_count": 20,
     "metadata": {},
     "output_type": "execute_result"
    }
   ],
   "source": [
    "peaks"
   ]
  },
  {
   "cell_type": "markdown",
   "metadata": {},
   "source": [
    "## Add Peaks values to df"
   ]
  },
  {
   "cell_type": "code",
   "execution_count": 21,
   "metadata": {},
   "outputs": [
    {
     "data": {
      "text/html": [
       "<div>\n",
       "<style scoped>\n",
       "    .dataframe tbody tr th:only-of-type {\n",
       "        vertical-align: middle;\n",
       "    }\n",
       "\n",
       "    .dataframe tbody tr th {\n",
       "        vertical-align: top;\n",
       "    }\n",
       "\n",
       "    .dataframe thead th {\n",
       "        text-align: right;\n",
       "    }\n",
       "</style>\n",
       "<table border=\"1\" class=\"dataframe\">\n",
       "  <thead>\n",
       "    <tr style=\"text-align: right;\">\n",
       "      <th></th>\n",
       "      <th>Time(s)</th>\n",
       "      <th>Relative Flux</th>\n",
       "      <th>Peaks</th>\n",
       "    </tr>\n",
       "    <tr>\n",
       "      <th>Time(Actual)</th>\n",
       "      <th></th>\n",
       "      <th></th>\n",
       "      <th></th>\n",
       "    </tr>\n",
       "  </thead>\n",
       "  <tbody>\n",
       "    <tr>\n",
       "      <th>2018-02-10 08:28:25.300</th>\n",
       "      <td>0.000</td>\n",
       "      <td>0.05477</td>\n",
       "      <td>NaN</td>\n",
       "    </tr>\n",
       "    <tr>\n",
       "      <th>2018-02-10 08:28:41.180</th>\n",
       "      <td>15.881</td>\n",
       "      <td>0.07878</td>\n",
       "      <td>NaN</td>\n",
       "    </tr>\n",
       "    <tr>\n",
       "      <th>2018-02-10 08:28:57.005</th>\n",
       "      <td>31.706</td>\n",
       "      <td>0.18612</td>\n",
       "      <td>0.18612</td>\n",
       "    </tr>\n",
       "    <tr>\n",
       "      <th>2018-02-10 08:29:12.863</th>\n",
       "      <td>47.564</td>\n",
       "      <td>0.10497</td>\n",
       "      <td>NaN</td>\n",
       "    </tr>\n",
       "    <tr>\n",
       "      <th>2018-02-10 08:29:28.705</th>\n",
       "      <td>63.405</td>\n",
       "      <td>0.07927</td>\n",
       "      <td>NaN</td>\n",
       "    </tr>\n",
       "  </tbody>\n",
       "</table>\n",
       "</div>"
      ],
      "text/plain": [
       "                         Time(s)  Relative Flux    Peaks\n",
       "Time(Actual)                                            \n",
       "2018-02-10 08:28:25.300    0.000        0.05477      NaN\n",
       "2018-02-10 08:28:41.180   15.881        0.07878      NaN\n",
       "2018-02-10 08:28:57.005   31.706        0.18612  0.18612\n",
       "2018-02-10 08:29:12.863   47.564        0.10497      NaN\n",
       "2018-02-10 08:29:28.705   63.405        0.07927      NaN"
      ]
     },
     "execution_count": 21,
     "metadata": {},
     "output_type": "execute_result"
    }
   ],
   "source": [
    "df['Peaks'] = pd.Series([df['Relative Flux'][i] for i in peaks], index=df.index[peaks])\n",
    "df.head()"
   ]
  },
  {
   "cell_type": "code",
   "execution_count": 22,
   "metadata": {},
   "outputs": [
    {
     "data": {
      "image/png": "[encoded data removed]",
      "text/plain": [
       "<matplotlib.figure.Figure at 0xe41d78ceb8>"
      ]
     },
     "metadata": {},
     "output_type": "display_data"
    }
   ],
   "source": [
    "plt.figure(figsize=(10,5))\n",
    "plt.title(\"Starman's Tesla Roadster Rotation Period in {0} \\n from UT{1} to UT{2}\\n\".format(str(df.index[0])[0:10],str(df.index[0])[10:-4], \n",
    "                                                                     str(df.index[-1])[10:-4]), fontsize=15)\n",
    "\n",
    "df['Relative Flux'].plot(linestyle=':', marker='.')\n",
    "df['Peaks'].plot(marker='o')\n",
    "plt.axhline(y=0, linestyle='--', color='green', alpha=0.7)\n",
    "\n",
    "plt.xlabel('Time')\n",
    "plt.ylabel('Relative Flux')\n",
    "\n",
    "sns.despine()"
   ]
  },
  {
   "cell_type": "markdown",
   "metadata": {},
   "source": [
    "The Time(s) values of the Peaks values will be used to find the average rotation period."
   ]
  },
  {
   "cell_type": "markdown",
   "metadata": {},
   "source": [
    "## Find the average rotation period of the Roadster"
   ]
  },
  {
   "cell_type": "markdown",
   "metadata": {},
   "source": [
    "Find the mean of the differences between the intervals."
   ]
  },
  {
   "cell_type": "code",
   "execution_count": 23,
   "metadata": {
    "scrolled": true
   },
   "outputs": [
    {
     "data": {
      "text/plain": [
       "Time(Actual)\n",
       "2018-02-10 08:28:57.005      31.706\n",
       "2018-02-10 08:33:42.254     316.954\n",
       "2018-02-10 08:38:43.298     617.998\n",
       "2018-02-10 08:43:28.535     903.235\n",
       "2018-02-10 08:47:58.016    1172.717\n",
       "2018-02-10 08:52:43.319    1458.020\n",
       "2018-02-10 08:57:28.636    1743.336\n",
       "2018-02-10 09:02:13.955    2028.656\n",
       "2018-02-10 09:07:15.240    2329.940\n",
       "2018-02-10 09:11:47.128    2601.829\n",
       "2018-02-10 09:16:32.820    2887.521\n",
       "Name: Time(s), dtype: float64"
      ]
     },
     "execution_count": 23,
     "metadata": {},
     "output_type": "execute_result"
    }
   ],
   "source": [
    "df['Time(s)'][peaks]"
   ]
  },
  {
   "cell_type": "code",
   "execution_count": 24,
   "metadata": {},
   "outputs": [
    {
     "data": {
      "text/plain": [
       "Time(Actual)\n",
       "2018-02-10 08:28:57.005        NaN\n",
       "2018-02-10 08:33:42.254    285.248\n",
       "2018-02-10 08:38:43.298    301.044\n",
       "2018-02-10 08:43:28.535    285.237\n",
       "2018-02-10 08:47:58.016    269.482\n",
       "2018-02-10 08:52:43.319    285.303\n",
       "2018-02-10 08:57:28.636    285.316\n",
       "2018-02-10 09:02:13.955    285.320\n",
       "2018-02-10 09:07:15.240    301.284\n",
       "2018-02-10 09:11:47.128    271.889\n",
       "2018-02-10 09:16:32.820    285.692\n",
       "Name: Time(s), dtype: float64"
      ]
     },
     "execution_count": 24,
     "metadata": {},
     "output_type": "execute_result"
    }
   ],
   "source": [
    "df['Time(s)'][peaks].diff()"
   ]
  },
  {
   "cell_type": "code",
   "execution_count": 25,
   "metadata": {},
   "outputs": [
    {
     "data": {
      "text/plain": [
       "Time(Actual)\n",
       "2018-02-10 08:33:42.254    285.248\n",
       "2018-02-10 08:38:43.298    301.044\n",
       "2018-02-10 08:43:28.535    285.237\n",
       "2018-02-10 08:47:58.016    269.482\n",
       "2018-02-10 08:52:43.319    285.303\n",
       "2018-02-10 08:57:28.636    285.316\n",
       "2018-02-10 09:02:13.955    285.320\n",
       "2018-02-10 09:07:15.240    301.284\n",
       "2018-02-10 09:11:47.128    271.889\n",
       "2018-02-10 09:16:32.820    285.692\n",
       "Name: Time(s), dtype: float64"
      ]
     },
     "execution_count": 25,
     "metadata": {},
     "output_type": "execute_result"
    }
   ],
   "source": [
    "df['Time(s)'][peaks].diff()[1:]"
   ]
  },
  {
   "cell_type": "code",
   "execution_count": 26,
   "metadata": {},
   "outputs": [
    {
     "data": {
      "text/plain": [
       "Time(Actual)\n",
       "2018-02-10 08:33:42.254    285.248\n",
       "2018-02-10 08:38:43.298    301.044\n",
       "2018-02-10 08:43:28.535    285.237\n",
       "2018-02-10 08:47:58.016    269.482\n",
       "2018-02-10 08:52:43.319    285.303\n",
       "2018-02-10 08:57:28.636    285.316\n",
       "2018-02-10 09:02:13.955    285.320\n",
       "2018-02-10 09:07:15.240    301.284\n",
       "2018-02-10 09:11:47.128    271.889\n",
       "2018-02-10 09:16:32.820    285.692\n",
       "Name: Time(s), dtype: float64"
      ]
     },
     "execution_count": 26,
     "metadata": {},
     "output_type": "execute_result"
    }
   ],
   "source": [
    "df['Time(s)'][peaks].diff()[1:]"
   ]
  },
  {
   "cell_type": "markdown",
   "metadata": {},
   "source": [
    "## Calculate average period in seconds and minutes"
   ]
  },
  {
   "cell_type": "code",
   "execution_count": 27,
   "metadata": {},
   "outputs": [
    {
     "name": "stdout",
     "output_type": "stream",
     "text": [
      "Rotation period: 285.5815 secs\n"
     ]
    }
   ],
   "source": [
    "print(\"Rotation period: \" + str(df['Time(s)'][peaks].diff()[1:].mean()) + ' secs')"
   ]
  },
  {
   "cell_type": "code",
   "execution_count": 28,
   "metadata": {
    "scrolled": true
   },
   "outputs": [
    {
     "name": "stdout",
     "output_type": "stream",
     "text": [
      "Rotation period: 4.759691666666667 mins\n"
     ]
    }
   ],
   "source": [
    "print(\"Rotation period: \" + str((df['Time(s)'][peaks].diff()[1:]).mean()/60) + ' mins')"
   ]
  },
  {
   "cell_type": "markdown",
   "metadata": {},
   "source": [
    "## What was the measured period?"
   ]
  },
  {
   "cell_type": "code",
   "execution_count": 29,
   "metadata": {},
   "outputs": [
    {
     "data": {
      "text/html": [
       "<center><blockquote class=\"twitter-tweet\" data-lang=\"en\"><p lang=\"en\" dir=\"ltr\">Early this morning we measured the brightness changes of a car tumbling in space! Credit to Erik Dennihy (<a href=\"https://twitter.com/UNC?ref_src=twsrc%5Etfw\">@UNC</a>), we can report that Tesla Roadster (Starman, 2018-017A) is rotating with a period of 4.7589 +/- 0.0060 minutes. <a href=\"https://t.co/LA4YzdvjK9\">pic.twitter.com/LA4YzdvjK9</a></p>&mdash; JJ Hermes (@jotajotahermes) <a href=\"https://twitter.com/jotajotahermes/status/962545252446932993?ref_src=twsrc%5Etfw\">February 11, 2018</a></blockquote></center>\n",
       "<center><script async src=\"https://platform.twitter.com/widgets.js\" charset=\"utf-8\"></script></center>"
      ],
      "text/plain": [
       "<IPython.core.display.HTML object>"
      ]
     },
     "metadata": {},
     "output_type": "display_data"
    }
   ],
   "source": [
    "%%html\n",
    "<center><blockquote class=\"twitter-tweet\" data-lang=\"en\"><p lang=\"en\" dir=\"ltr\">Early this morning we measured the brightness changes of a car tumbling in space! Credit to Erik Dennihy (<a href=\"https://twitter.com/UNC?ref_src=twsrc%5Etfw\">@UNC</a>), we can report that Tesla Roadster (Starman, 2018-017A) is rotating with a period of 4.7589 +/- 0.0060 minutes. <a href=\"https://t.co/LA4YzdvjK9\">pic.twitter.com/LA4YzdvjK9</a></p>&mdash; JJ Hermes (@jotajotahermes) <a href=\"https://twitter.com/jotajotahermes/status/962545252446932993?ref_src=twsrc%5Etfw\">February 11, 2018</a></blockquote></center>\n",
    "<center><script async src=\"https://platform.twitter.com/widgets.js\" charset=\"utf-8\"></script></center>\n"
   ]
  },
  {
   "cell_type": "markdown",
   "metadata": {},
   "source": [
    "Not bad?\n",
    "\n",
    "Maybe we could try to use Fourier Analysis later."
   ]
  }
 ],
 "metadata": {
  "kernelspec": {
   "display_name": "Python 3",
   "language": "python",
   "name": "python3"
  },
  "language_info": {
   "codemirror_mode": {
    "name": "ipython",
    "version": 3
   },
   "file_extension": ".py",
   "mimetype": "text/x-python",
   "name": "python",
   "nbconvert_exporter": "python",
   "pygments_lexer": "ipython3",
   "version": "3.6.4"
  }
 },
 "nbformat": 4,
 "nbformat_minor": 2
}
